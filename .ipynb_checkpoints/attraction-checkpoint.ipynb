{
 "cells": [
  {
   "cell_type": "code",
   "execution_count": 1,
   "metadata": {},
   "outputs": [],
   "source": [
    "import numpy as np\n",
    "import matplotlib.pyplot as plt\n",
    "from scipy.optimize import curve_fit\n",
    "from orb import orb\n",
    "from orb import get_max_orb_distance\n",
    "from orb import evolve_orbs\n",
    "\n"
   ]
  },
  {
   "cell_type": "code",
   "execution_count": 13,
   "metadata": {},
   "outputs": [],
   "source": [
    "\n",
    "A_initial_pos = 100*np.random.rand(2)#np.array([])\n",
    "B_initial_pos = 100*np.random.rand(2)#np.array([])\n",
    "C_initial_pos = 100*np.random.rand(2)#np.array([])\n",
    "D_initial_pos = 100*np.random.rand(2)#np.array([])\n",
    "\n",
    "A = orb(A_initial_pos)\n",
    "\n",
    "B = orb(B_initial_pos)\n",
    "\n",
    "C = orb(C_initial_pos)\n",
    "\n",
    "D = orb(D_initial_pos)\n",
    "\n",
    "orbs = np.array([A, B, C, D])\n",
    "\n",
    "centroid = np.average(np.array([orb.position for orb in orbs]), axis=0)\n",
    "\n",
    "avg_dist_to_centroid = np.average(np.array([np.linalg.norm(centroid - orb.position) for orb in orbs]))\n",
    "\n",
    "\n",
    "A.set_target(B)\n",
    "B.set_target(C)\n",
    "C.set_target(D)\n",
    "D.set_target(A)"
   ]
  },
  {
   "cell_type": "code",
   "execution_count": 3,
   "metadata": {},
   "outputs": [],
   "source": [
    "t = 0\n",
    "dt = 0.1\n",
    "stop_distance = 0.3\n",
    "time_array = np.array([0])\n",
    "max_dists = np.array([get_max_orb_distance(orbs)])\n",
    "\n",
    "while max_dists[-1] >= 0.3:\n",
    "\n",
    "        A.update_velocity()\n",
    "        B.update_velocity()\n",
    "        C.update_velocity()\n",
    "        D.update_velocity()\n",
    "\n",
    "        A.update_position(dt)\n",
    "        B.update_position(dt)\n",
    "        C.update_position(dt)\n",
    "        D.update_position(dt)\n",
    "\n",
    "        t += dt\n",
    "        time_array = np.append(time_array, t)\n",
    "\n",
    "        max_dists = np.append(max_dists, get_max_orb_distance(orbs))\n",
    "\n"
   ]
  },
  {
   "cell_type": "code",
   "execution_count": 7,
   "metadata": {},
   "outputs": [
    {
     "data": {
      "text/plain": [
       "'\\nmax_times = np.array([])\\nstarting_mean_dists = np.array([])\\n\\n\\nfor i in range(0,100):\\n    \\n    A_initial_pos = 100*np.random.rand(2)#np.array([])\\n    B_initial_pos = 100*np.random.rand(2)#np.array([])\\n    C_initial_pos = 100*np.random.rand(2)#np.array([])\\n    D_initial_pos = 100*np.random.rand(2)#np.array([])\\n\\n    A = orb(A_initial_pos)\\n\\n    B = orb(B_initial_pos)\\n\\n    C = orb(C_initial_pos)\\n\\n    D = orb(D_initial_pos)\\n\\n    orbs = np.array([A, B, C, D])\\n\\n    centroid = np.average(np.array([orb.position for orb in orbs]), axis=0)\\n\\n    avg_dist_to_centroid = np.average(np.array([np.linalg.norm(centroid - orb.position) for orb in orbs]))\\n\\n    starting_mean_dists = np.append(starting_mean_dists, avg_dist_to_centroid)\\n\\n    A.set_target(B)\\n    B.set_target(C)\\n    C.set_target(D)\\n    D.set_target(A)\\n\\n    t = 0\\n    dt = 0.1\\n    stop_distance = 0.3\\n    time_array = np.array([0])\\n    max_dists = np.array([get_max_orb_distance(orbs)])\\n\\n    while max_dists[-1] >= 0.3:\\n\\n        A.update_velocity()\\n        B.update_velocity()\\n        C.update_velocity()\\n        D.update_velocity()\\n\\n        A.update_position(dt)\\n        B.update_position(dt)\\n        C.update_position(dt)\\n        D.update_position(dt)\\n\\n        t += dt\\n        time_array = np.append(time_array, t)\\n\\n        max_dists = np.append(max_dists, get_max_orb_distance(orbs))\\n    \\n    max_times = np.append(max_times, time_array[-1])\\n\\n    \\n    \\n\\n\\nplt.scatter(starting_mean_dists, max_times)\\n'"
      ]
     },
     "execution_count": 7,
     "metadata": {},
     "output_type": "execute_result"
    }
   ],
   "source": [
    "\"\"\"\n",
    "max_times = np.array([])\n",
    "starting_mean_dists = np.array([])\n",
    "\n",
    "\n",
    "for i in range(0,100):\n",
    "    \n",
    "    A_initial_pos = 100*np.random.rand(2)#np.array([])\n",
    "    B_initial_pos = 100*np.random.rand(2)#np.array([])\n",
    "    C_initial_pos = 100*np.random.rand(2)#np.array([])\n",
    "    D_initial_pos = 100*np.random.rand(2)#np.array([])\n",
    "\n",
    "    A = orb(A_initial_pos)\n",
    "\n",
    "    B = orb(B_initial_pos)\n",
    "\n",
    "    C = orb(C_initial_pos)\n",
    "\n",
    "    D = orb(D_initial_pos)\n",
    "\n",
    "    orbs = np.array([A, B, C, D])\n",
    "\n",
    "    centroid = np.average(np.array([orb.position for orb in orbs]), axis=0)\n",
    "\n",
    "    avg_dist_to_centroid = np.average(np.array([np.linalg.norm(centroid - orb.position) for orb in orbs]))\n",
    "\n",
    "    starting_mean_dists = np.append(starting_mean_dists, avg_dist_to_centroid)\n",
    "\n",
    "    A.set_target(B)\n",
    "    B.set_target(C)\n",
    "    C.set_target(D)\n",
    "    D.set_target(A)\n",
    "\n",
    "    t = 0\n",
    "    dt = 0.1\n",
    "    stop_distance = 0.3\n",
    "    time_array = np.array([0])\n",
    "    max_dists = np.array([get_max_orb_distance(orbs)])\n",
    "\n",
    "    while max_dists[-1] >= 0.3:\n",
    "\n",
    "        A.update_velocity()\n",
    "        B.update_velocity()\n",
    "        C.update_velocity()\n",
    "        D.update_velocity()\n",
    "\n",
    "        A.update_position(dt)\n",
    "        B.update_position(dt)\n",
    "        C.update_position(dt)\n",
    "        D.update_position(dt)\n",
    "\n",
    "        t += dt\n",
    "        time_array = np.append(time_array, t)\n",
    "\n",
    "        max_dists = np.append(max_dists, get_max_orb_distance(orbs))\n",
    "    \n",
    "    max_times = np.append(max_times, time_array[-1])\n",
    "\n",
    "    \n",
    "    \n",
    "\n",
    "\n",
    "plt.scatter(starting_mean_dists, max_times)\n",
    "\"\"\""
   ]
  },
  {
   "cell_type": "code",
   "execution_count": 8,
   "metadata": {},
   "outputs": [
    {
     "name": "stdout",
     "output_type": "stream",
     "text": [
      "R^2 value: 0.8488760174651871, slope = 1.575794522244303, y-intercept = 7.906459654393313.\n"
     ]
    }
   ],
   "source": [
    "def f(x, A, B): # this is your 'straight line' y=f(x)\n",
    "    return A*x + B\n",
    "\n",
    "popt, pcov = curve_fit(f, starting_mean_dists, max_times) # your data x, y to fit\n",
    "\n",
    "residuals = max_times- f(starting_mean_dists, *popt)\n",
    "\n",
    "ss_res = np.sum(residuals**2)\n",
    "\n",
    "ss_tot = np.sum((max_times - np.mean(max_times))**2)\n",
    "\n",
    "r_squared = 1 - (ss_res / ss_tot)\n",
    "\n",
    "print('R^2 value: {}, slope = {}, y-intercept = {}.'.format(r_squared, popt[0], popt[1]))\n"
   ]
  },
  {
   "cell_type": "code",
   "execution_count": 12,
   "metadata": {},
   "outputs": [
    {
     "name": "stdout",
     "output_type": "stream",
     "text": [
      "[46.17361279]\n"
     ]
    },
    {
     "data": {
      "image/png": "[encoded data removed]",
      "text/plain": [
       "<Figure size 864x864 with 1 Axes>"
      ]
     },
     "metadata": {
      "needs_background": "light"
     },
     "output_type": "display_data"
    }
   ],
   "source": [
    "fig = plt.figure(figsize=(12,12))\n",
    "\n",
    "plt.plot(A.x_positions, A.y_positions, color='red')\n",
    "plt.plot(A.x_positions[0], A.y_positions[0], color='red', marker=\".\", markersize=10)\n",
    "plt.text(A.x_positions[0], A.y_positions[0], 'A', fontsize = 15, color='red',ha='center', va = 'bottom')\n",
    "plt.plot(B.x_positions, B.y_positions, color='blue')\n",
    "plt.plot(B.x_positions[0], B.y_positions[0], color='blue', marker=\".\", markersize=10)\n",
    "plt.text(B.x_positions[0], B.y_positions[0], 'B', fontsize = 15, color='blue',ha='center', va = 'bottom')\n",
    "plt.plot(C.x_positions, C.y_positions, color='orange')\n",
    "plt.plot(C.x_positions[0], C.y_positions[0], color='orange', marker=\".\", markersize=10)\n",
    "plt.text(C.x_positions[0], C.y_positions[0], 'C', fontsize = 15, color='orange',ha='center', va = 'bottom')\n",
    "plt.plot(D.x_positions, D.y_positions, color='purple')\n",
    "plt.plot(D.x_positions[0], D.y_positions[0], color='purple', marker=\".\", markersize=10)\n",
    "plt.text(D.x_positions[0], D.y_positions[0], 'D', fontsize = 15, color='purple',ha='center', va = 'bottom')\n",
    "plt.gca().set_aspect(\"equal\")\n",
    "plt.xlim([0, 100])\n",
    "plt.ylim([0, 100])\n",
    "\n",
    "\n",
    "\n",
    "plt.plot(A.position[0], A.position[1], color='green', marker=\".\", markersize=15)\n",
    "plt.plot(centroid[0], centroid[1], color='black', marker=\".\", markersize=15)\n",
    "plt.show\n",
    "\n",
    "a = np.array([])\n",
    "\n",
    "a = np.append(a, A.position[0])\n",
    "\n",
    "print(a)\\\n",
    "\n",
    "plt.savefig('path.png')"
   ]
  },
  {
   "cell_type": "code",
   "execution_count": null,
   "metadata": {},
   "outputs": [],
   "source": []
  }
 ],
 "metadata": {
  "interpreter": {
   "hash": "049340ab3eb29d7ae2d94646cc97a61c367789f60499ee5f7c4fd205354a50e4"
  },
  "kernelspec": {
   "display_name": "Python 3",
   "language": "python",
   "name": "python3"
  },
  "language_info": {
   "codemirror_mode": {
    "name": "ipython",
    "version": 3
   },
   "file_extension": ".py",
   "mimetype": "text/x-python",
   "name": "python",
   "nbconvert_exporter": "python",
   "pygments_lexer": "ipython3",
   "version": "3.7.4"
  }
 },
 "nbformat": 4,
 "nbformat_minor": 2
}
